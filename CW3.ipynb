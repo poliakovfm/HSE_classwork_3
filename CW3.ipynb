{
 "cells": [
  {
   "cell_type": "code",
   "execution_count": null,
   "metadata": {},
   "outputs": [],
   "source": [
    "import os\n",
    "for name in ['training', 'testing']:\n",
    "    with open(''.format(name), 'w') as output_file:\n",
    "        print('=== creating {} dataset ==='.format(name))\n",
    "        output_file.write('image_path,label\\n')\n",
    "        for i in range(10):\n",
    "            path = '{}/{}'.format(name, i)\n",
    "            for file in os.listdir(path):\n",
    "                if file.endswith(\".png\"):\n",
    "                    output_file.write('{},{}\\n'.format(os.path.join(path, file), str(i)))"
   ]
  },
  {
   "cell_type": "code",
   "execution_count": null,
   "metadata": {},
   "outputs": [],
   "source": [
    "df = \"cats_dogs_dataset_training.csv\""
   ]
  },
  {
   "cell_type": "code",
   "execution_count": null,
   "metadata": {},
   "outputs": [],
   "source": [
    "from ludwig.api import LudwigModel"
   ]
  },
  {
   "cell_type": "code",
   "execution_count": null,
   "metadata": {},
   "outputs": [],
   "source": [
    "model_definition = {\n",
    "    \"input_features\": [{\"name\": \"image_path\", \"type\": \"image\", \"encoder\": \"stacked_cnn\"}\n",
    "    ],\n",
    "    \"output_features\": [\n",
    "        {\"name\": \"class\", \"type\": \"category\"}\n",
    "    ]\n",
    "}"
   ]
  },
  {
   "cell_type": "code",
   "execution_count": null,
   "metadata": {},
   "outputs": [],
   "source": [
    "model = LudwigModel (model_definition)"
   ]
  },
  {
   "cell_type": "code",
   "execution_count": null,
   "metadata": {},
   "outputs": [],
   "source": [
    "train_stats = model.train(df)"
   ]
  }
 ],
 "metadata": {
  "kernelspec": {
   "display_name": "Python 3",
   "language": "python",
   "name": "python3"
  },
  "language_info": {
   "codemirror_mode": {
    "name": "ipython",
    "version": 3
   },
   "file_extension": ".py",
   "mimetype": "text/x-python",
   "name": "python",
   "nbconvert_exporter": "python",
   "pygments_lexer": "ipython3",
   "version": "3.7.4"
  }
 },
 "nbformat": 4,
 "nbformat_minor": 2
}
